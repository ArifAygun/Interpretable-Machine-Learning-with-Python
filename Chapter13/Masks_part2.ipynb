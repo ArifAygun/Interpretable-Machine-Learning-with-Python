{
 "cells": [
  {
   "cell_type": "code",
   "execution_count": 1,
   "metadata": {},
   "outputs": [],
   "source": [
    "import math\n",
    "import os\n",
    "os.environ['TF_CPP_MIN_LOG_LEVEL'] = '3' \n",
    "import mldatasets\n",
    "import warnings\n",
    "warnings.filterwarnings('ignore')\n",
    "import numpy as np\n",
    "from sklearn import preprocessing\n",
    "import tensorflow as tf\n",
    "tf.keras.backend.set_floatx('float32')\n",
    "from tensorflow.keras.utils import get_file\n",
    "from tensorflow.keras.models import load_model\n",
    "from tensorflow.keras.models import Sequential\n",
    "from tensorflow.keras.layers import Dense, Flatten, Conv2D, MaxPooling2D, Dropout\n",
    "import matplotlib.pyplot as plt\n",
    "import seaborn as sns\n",
    "from art.estimators.classification import TensorFlowV2Classifier\n",
    "from art.estimators.certification.randomized_smoothing import TensorFlowV2RandomizedSmoothing\n",
    "from art.utils import compute_accuracy"
   ]
  },
  {
   "cell_type": "code",
   "execution_count": 2,
   "metadata": {},
   "outputs": [
    {
     "name": "stdout",
     "output_type": "stream",
     "text": [
      "https://github.com/PacktPublishing/Interpretable-Machine-Learning-with-Python/raw/master/datasets/maskedface-net_thumbs_sampled.zip downloaded to /Users/smasis/Documents/OTHER/InterpretableMLBook/programming/Chapter13/data/maskedface-net_thumbs_sampled.zip\n",
      "/Users/smasis/Documents/OTHER/InterpretableMLBook/programming/Chapter13/data/maskedface-net_thumbs_sampled.zip uncompressed to /Users/smasis/Documents/OTHER/InterpretableMLBook/programming/Chapter13/data/maskedface-net_thumbs_sampled\n",
      "21000 dataset files found in /Users/smasis/Documents/OTHER/InterpretableMLBook/programming/Chapter13/data/maskedface-net_thumbs_sampled folder\n"
     ]
    }
   ],
   "source": [
    "X_train, X_test, y_train, y_test =\\\n",
    "                                    mldatasets.load(\"maskedface-net_thumbs_sampled\", prepare=True)\n",
    "X_train, X_test = X_train / 255.0, X_test / 255.0\n",
    "min_ = X_train.min()\n",
    "max_ = X_train.max()"
   ]
  },
  {
   "cell_type": "code",
   "execution_count": 68,
   "metadata": {},
   "outputs": [
    {
     "name": "stdout",
     "output_type": "stream",
     "text": [
      "X_train dim:\t(16800, 128, 128, 3)\n",
      "X_test dim:\t(4200, 128, 128, 3)\n",
      "y_train dim:\t(16800, 1)\n",
      "y_test dim:\t(4200, 1)\n",
      "X_train min:\t0.0\n",
      "X_train max:\t1.0\n",
      "y_train labels:\t['Correct' 'Incorrect' 'None']\n"
     ]
    }
   ],
   "source": [
    "print('X_train dim:\\t%s' % (X_train.shape,))\n",
    "print('X_test dim:\\t%s' % (X_test.shape,))\n",
    "print('y_train dim:\\t%s' % (y_train.shape,))\n",
    "print('y_test dim:\\t%s' % (y_test.shape,))\n",
    "print('X_train min:\\t%s' % (min_))\n",
    "print('X_train max:\\t%s' % (max_))\n",
    "print('y_train labels:\\t%s' % (np.unique(y_train)))"
   ]
  },
  {
   "cell_type": "code",
   "execution_count": 5,
   "metadata": {},
   "outputs": [
    {
     "name": "stdout",
     "output_type": "stream",
     "text": [
      "['Correct', 'Incorrect', 'None']\n"
     ]
    }
   ],
   "source": [
    "ohe = preprocessing.OneHotEncoder(sparse=False)\n",
    "ohe.fit(y_train)\n",
    "labels_l = ohe.categories_[0].tolist()\n",
    "print(labels_l)"
   ]
  },
  {
   "cell_type": "code",
   "execution_count": 3,
   "metadata": {},
   "outputs": [],
   "source": [
    "rand = 9\n",
    "os.environ['PYTHONHASHSEED'] = str(rand)\n",
    "tf.random.set_seed(rand)\n",
    "np.random.seed(rand)"
   ]
  },
  {
   "cell_type": "code",
   "execution_count": 4,
   "metadata": {},
   "outputs": [],
   "source": [
    "sampl_md_idxs = np.random.choice(X_test.shape[0], 200, replace=False)\n",
    "X_test_mdsample = X_test[sampl_md_idxs].astype(np.float32)\n",
    "y_test_mdsample = y_test[sampl_md_idxs]"
   ]
  },
  {
   "cell_type": "code",
   "execution_count": 9,
   "metadata": {},
   "outputs": [],
   "source": [
    "model_path = get_file('CNN_Robust_MaskedFace_Net.hdf5',\\\n",
    "                      'https://github.com/PacktPublishing/Interpretable-Machine-Learning-with-Python/blob/master/models/CNN_Robust_MaskedFace_Net.hdf5?raw=true')\n",
    "robust_model = tf.keras.models.load_model(model_path)"
   ]
  },
  {
   "cell_type": "code",
   "execution_count": 10,
   "metadata": {},
   "outputs": [],
   "source": [
    "robust_classifier = TensorFlowV2Classifier(model=robust_model, clip_values=(min_, max_),\\\n",
    "                                         nb_classes=3, input_shape=X_train.shape[1:])"
   ]
  },
  {
   "cell_type": "code",
   "execution_count": 11,
   "metadata": {},
   "outputs": [
    {
     "name": "stdout",
     "output_type": "stream",
     "text": [
      "132/132 [==============================] - 5s 35ms/step\n"
     ]
    },
    {
     "data": {
      "image/png": "[encoded data removed]",
      "text/plain": [
       "<Figure size 864x792 with 2 Axes>"
      ]
     },
     "metadata": {
      "needs_background": "light"
     },
     "output_type": "display_data"
    },
    {
     "name": "stdout",
     "output_type": "stream",
     "text": [
      "              precision    recall  f1-score   support\n",
      "\n",
      "     Correct      0.962     0.996     0.979      1400\n",
      "   Incorrect      0.980     0.957     0.969      1400\n",
      "        None      0.994     0.983     0.989      1400\n",
      "\n",
      "    accuracy                          0.979      4200\n",
      "   macro avg      0.979     0.979     0.979      4200\n",
      "weighted avg      0.979     0.979     0.979      4200\n",
      "\n"
     ]
    }
   ],
   "source": [
    "y_test_robust_pred, y_test_robust_prob =\\\n",
    "                mldatasets.evaluate_multiclass_mdl(robust_classifier.model, X_test, y_test, labels_l, ohe,\\\n",
    "                                                   plot_conf_matrix=True, predopts={\"verbose\":1})"
   ]
  },
  {
   "cell_type": "markdown",
   "metadata": {},
   "source": [
    "### Randomized Smoothing"
   ]
  },
  {
   "cell_type": "code",
   "execution_count": 129,
   "metadata": {},
   "outputs": [],
   "source": [
    "nb_epochs = 10\n",
    "batch_size = 128\n",
    "sample_size = 100\n",
    "nb_classes = len(np.unique(y_train))\n",
    "optimizer = tf.keras.optimizers.Adam(lr=0.001)\n",
    "loss_object = tf.keras.losses.CategoricalCrossentropy()"
   ]
  },
  {
   "cell_type": "code",
   "execution_count": 130,
   "metadata": {},
   "outputs": [],
   "source": [
    "X_train, X_test_mdsample = X_train.astype(np.float32), X_test_mdsample.astype(np.float32)\n",
    "y_train_ohe = ohe.transform(y_train).astype(np.float32)\n",
    "y_test_mdsample_ohe = ohe.transform(y_test_mdsample).astype(np.float32)"
   ]
  },
  {
   "cell_type": "code",
   "execution_count": null,
   "metadata": {},
   "outputs": [],
   "source": [
    "sampl_lg_idxs = np.random.choice(X_train.shape[0], 2400, replace=False)\n",
    "X_train_lgsample = X_train[sampl_lg_idxs].astype(np.float32)\n",
    "y_train_lgsample = y_train[sampl_lg_idxs]\n",
    "y_train_lgsample_ohe = ohe.transform(y_train_lgsample).astype(np.float32)"
   ]
  },
  {
   "cell_type": "code",
   "execution_count": 204,
   "metadata": {},
   "outputs": [],
   "source": [
    "def get_model(input_shape, min_, max_):\n",
    "    test_model = Sequential([\n",
    "        Conv2D(16, (3, 3), activation='relu', input_shape=input_shape),\n",
    "        MaxPooling2D(pool_size=(2, 2)),\n",
    "        Conv2D(32, (3, 3), activation='relu'),\n",
    "        MaxPooling2D(pool_size=(2, 2)),\n",
    "        Conv2D(64, (3, 3), activation='relu'),\n",
    "        MaxPooling2D(pool_size=(2, 2)),\n",
    "        Conv2D(128, (3, 3), activation='relu'),\n",
    "        MaxPooling2D(pool_size=(2, 2)),\n",
    "        Flatten(),\n",
    "        Dense(768, activation='relu'),\n",
    "        Dropout(0.35),\n",
    "        Dense(3, activation='softmax')\n",
    "    ])\n",
    "    \n",
    "    return test_model"
   ]
  },
  {
   "cell_type": "code",
   "execution_count": 133,
   "metadata": {},
   "outputs": [],
   "source": [
    "def train_step(model, images, labels):        \n",
    "    with tf.GradientTape() as tape:\n",
    "        predictions = model(images, training=True)\n",
    "        loss = loss_object(labels, predictions)\n",
    "    gradients = tape.gradient(loss, model.trainable_variables)\n",
    "    optimizer.apply_gradients(zip(gradients, model.trainable_variables))"
   ]
  },
  {
   "cell_type": "code",
   "execution_count": 134,
   "metadata": {},
   "outputs": [],
   "source": [
    "def train_rs_classifier(X_train, y_train, nb_epochs, batch_size, min_, max_,\\\n",
    "                        nb_classes, sample_size, loss_object, train_step, sigma_0=0, sigma_1=0.5,\\\n",
    "                        alpha=0.001):\n",
    "    \n",
    "    input_shape = X_train.shape[1:]\n",
    "    if sigma_0 > 0:\n",
    "        rs_classifier = TensorFlowV2RandomizedSmoothing(model=get_model(input_shape, min_, max_),\\\n",
    "                                                        input_shape=input_shape,\\\n",
    "                                                        clip_values=(min_, max_),\\\n",
    "                                                        nb_classes=nb_classes,\\\n",
    "                                                        sample_size=sample_size,\\\n",
    "                                                        loss_object=loss_object,\\\n",
    "                                                        train_step=train_step,\\\n",
    "                                                        scale=sigma_0, alpha=alpha,\\\n",
    "                                                        channels_first=False)\n",
    "        \n",
    "        rs_classifier.fit(X_train, y_train, nb_epochs=nb_epochs, batch_size=batch_size)\n",
    "        \n",
    "        return rs_classifier\n",
    "    else:\n",
    "        classifier = TensorFlowV2Classifier(model=get_model(input_shape, min_, max_),\\\n",
    "                                                input_shape=input_shape,\\\n",
    "                                                clip_values=(min_, max_),\\\n",
    "                                                nb_classes=nb_classes,\\\n",
    "                                                loss_object=loss_object,\\\n",
    "                                                train_step=train_step,\\\n",
    "                                                channels_first=False)\n",
    "        \n",
    "        classifier.fit(X_train, y_train, nb_epochs=nb_epochs, batch_size=batch_size)\n",
    "        \n",
    "        rs_classifier = TensorFlowV2RandomizedSmoothing(model=classifier.model,\\\n",
    "                                                        input_shape=input_shape,\\\n",
    "                                                        clip_values=(min_, max_),\\\n",
    "                                                        nb_classes=nb_classes,\\\n",
    "                                                        sample_size=sample_size,\\\n",
    "                                                        loss_object=loss_object,\\\n",
    "                                                        train_step=train_step,\\\n",
    "                                                        scale=sigma_1, alpha=alpha,\\\n",
    "                                                        channels_first=False)\n",
    "        return classifier, rs_classifier"
   ]
  },
  {
   "cell_type": "code",
   "execution_count": 149,
   "metadata": {},
   "outputs": [
    {
     "name": "stdout",
     "output_type": "stream",
     "text": [
      "CPU times: user 1h 36min 30s, sys: 4min 26s, total: 1h 40min 57s\n",
      "Wall time: 12min 33s\n"
     ]
    }
   ],
   "source": [
    "classifier_0, rs_classifier_0 = train_rs_classifier(X_train, y_train_ohe, nb_epochs,\\\n",
    "                                                    batch_size, min_, max_, nb_classes,\\\n",
    "                                                    sample_size, loss_object, train_step) \n",
    "\n",
    "sigma_1 = 0.25\n",
    "rs_classifier_1 = train_rs_classifier(X_train, y_train_ohe, nb_epochs, batch_size,\\\n",
    "                                      min_, max_, nb_classes, sample_size, loss_object,\\\n",
    "                                      train_step, sigma_1)\n",
    "\n",
    "sigma_2 = 0.5\n",
    "rs_classifier_2 = train_rs_classifier(X_train, y_train_ohe, nb_epochs, batch_size,\\\n",
    "                                      min_, max_, nb_classes, sample_size, loss_object,\\\n",
    "                                      train_step, sigma_2)"
   ]
  },
  {
   "cell_type": "code",
   "execution_count": 150,
   "metadata": {},
   "outputs": [
    {
     "name": "stderr",
     "output_type": "stream",
     "text": [
      "Randomized smoothing: 100%|██████████| 200/200 [01:03<00:00,  3.15it/s]\n",
      "Randomized smoothing: 100%|██████████| 200/200 [01:03<00:00,  3.13it/s]\n"
     ]
    }
   ],
   "source": [
    "# compare prediction of randomized smoothed models to original model\n",
    "y_preds_0 = classifier_0.predict(X_test_mdsample)\n",
    "y_preds_rs_1 = rs_classifier_1.predict(X_test_mdsample)\n",
    "y_preds_rs_2 = rs_classifier_2.predict(X_test_mdsample)"
   ]
  },
  {
   "cell_type": "code",
   "execution_count": 198,
   "metadata": {},
   "outputs": [
    {
     "name": "stdout",
     "output_type": "stream",
     "text": [
      "Original Classifier\n",
      "\tAccuracy: 99.50%\tCoverage: 100.00%\n",
      "\n",
      "Smoothed Classifier (σ=0.25)\n",
      "\tAccuracy: 100.00%\tCoverage: 99.50%\n",
      "\n",
      "Smoothed Classifier (σ=0.50)\n",
      "\tAccuracy: 98.99%\tCoverage: 99.50%\n"
     ]
    }
   ],
   "source": [
    "acc_0, cov_0 = compute_accuracy(y_preds_0, y_test_mdsample_ohe)\n",
    "acc_rs_1, cov_rs_1 = compute_accuracy(y_preds_rs_1, y_test_mdsample_ohe)\n",
    "acc_rs_2, cov_rs_2 = compute_accuracy(y_preds_rs_2, y_test_mdsample_ohe)\n",
    "\n",
    "print(\"Original Classifier\")\n",
    "print(\"\\tAccuracy: %.2f%%\\tCoverage: %.2f%%\" % (acc_0*100, cov_0*100))\n",
    "\n",
    "print(\"\\nSmoothed Classifier (σ=%.2f)\" % (sigma_1))\n",
    "print(\"\\tAccuracy: %.2f%%\\tCoverage: %.2f%%\" % (acc_rs_1*100, cov_rs_1*100))\n",
    "\n",
    "print(\"\\nSmoothed Classifier (σ=%.2f)\" % (sigma_2))\n",
    "print(\"\\tAccuracy: %.2f%%\\tCoverage: %.2f%%\" % (acc_rs_2*100, cov_rs_2*100))"
   ]
  },
  {
   "cell_type": "code",
   "execution_count": 168,
   "metadata": {},
   "outputs": [
    {
     "name": "stdout",
     "output_type": "stream",
     "text": [
      "CPU times: user 1h 16min 3s, sys: 8min 31s, total: 1h 24min 35s\n",
      "Wall time: 20min 52s\n"
     ]
    }
   ],
   "source": [
    "%%time\n",
    "predictions_0, radiuses_0 = rs_classifier_0.certify(X_test_mdsample, n=500)\n",
    "predictions_1, radiuses_1 = rs_classifier_1.certify(X_test_mdsample, n=500)\n",
    "predictions_2, radiuses_2 = rs_classifier_2.certify(X_test_mdsample, n=500)"
   ]
  },
  {
   "cell_type": "code",
   "execution_count": 178,
   "metadata": {},
   "outputs": [],
   "source": [
    "# Calculate certification accuracy for a given radius\n",
    "def calc_cert_accuracy(radius_list, radiuses, predictions, y_test):\n",
    "    \n",
    "    cert_accuracy = []\n",
    "    nb_certs = len(radiuses)\n",
    "    \n",
    "    for r in radius_list:\n",
    "        r_idx = np.where(radiuses >= r)[0]\n",
    "        y_test_subset = y_test[r_idx]\n",
    "        cert_accuracy_r = np.sum(predictions[r_idx] == np.argmax(y_test_subset, axis=1)) / nb_certs\n",
    "        cert_accuracy.append(cert_accuracy_r)\n",
    "        \n",
    "    return cert_accuracy"
   ]
  },
  {
   "cell_type": "code",
   "execution_count": 186,
   "metadata": {},
   "outputs": [],
   "source": [
    "radius_list = np.linspace(0, 1.5, 151)\n",
    "cert_accuracy_0 = calc_cert_accuracy(radius_list, radiuses_0,\\\n",
    "                                     predictions_0, y_test_mdsample_ohe)\n",
    "cert_accuracy_1 = calc_cert_accuracy(radius_list, radiuses_1,\\\n",
    "                                     predictions_1, y_test_mdsample_ohe)\n",
    "cert_accuracy_2 = calc_cert_accuracy(radius_list, radiuses_2,\\\n",
    "                                     predictions_2, y_test_mdsample_ohe)"
   ]
  },
  {
   "cell_type": "code",
   "execution_count": 203,
   "metadata": {},
   "outputs": [
    {
     "data": {
      "image/png": "[encoded data removed]",
      "text/plain": [
       "<Figure size 1008x648 with 1 Axes>"
      ]
     },
     "metadata": {},
     "output_type": "display_data"
    }
   ],
   "source": [
    "sns.set()\n",
    "plt.figure(figsize=(14,9))\n",
    "plt.plot(radius_list, cert_accuracy_0,\\\n",
    "         'r-', label='original')\n",
    "plt.plot(radius_list, cert_accuracy_1,\\\n",
    "         '-', color='green', label='smoothed, $\\sigma$=' + str(sigma_1))\n",
    "plt.plot(radius_list, cert_accuracy_2,\\\n",
    "         '-', color='blue', label='smoothed, $\\sigma$=' + str(sigma_2))\n",
    "plt.xlabel('Radius', fontsize=14)\n",
    "plt.ylabel('Certified Accuracy', fontsize=14)\n",
    "plt.legend()\n",
    "plt.show()"
   ]
  }
 ],
 "metadata": {
  "kernelspec": {
   "display_name": "Python 3",
   "language": "python",
   "name": "python3"
  },
  "language_info": {
   "codemirror_mode": {
    "name": "ipython",
    "version": 3
   },
   "file_extension": ".py",
   "mimetype": "text/x-python",
   "name": "python",
   "nbconvert_exporter": "python",
   "pygments_lexer": "ipython3",
   "version": "3.8.5"
  }
 },
 "nbformat": 4,
 "nbformat_minor": 4
}
